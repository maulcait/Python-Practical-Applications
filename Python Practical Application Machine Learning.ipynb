{
 "cells": [
  {
   "cell_type": "markdown",
   "id": "201d03ca",
   "metadata": {},
   "source": [
    "# Simple Machine Learning Example"
   ]
  },
  {
   "cell_type": "markdown",
   "id": "93f06d58",
   "metadata": {},
   "source": [
    "### Using the same dataset as from the Exploratory Data Analysis Example\n",
    "### Dataset comes from Kaggle \n",
    "#### https://www.kaggle.com/mirichoi0218/insurance\n",
    "\n",
    "A really good example:\n",
    "https://www.kaggle.com/hely333/eda-regression\n",
    "\n",
    "##### Columns\n",
    "**age:** age of primary beneficiary\n",
    "\n",
    "**sex:** insurance contractor gender, female, male\n",
    "\n",
    "**bmi:** Body mass index, providing an understanding of body, weights that are relatively high or low relative to height,\n",
    "objective index of body weight (kg / m ^ 2) using the ratio of height to weight, ideally 18.5 to 24.9\n",
    "\n",
    "**children:** Number of children covered by health insurance / Number of dependents\n",
    "\n",
    "**smoker:** Smoking\n",
    "\n",
    "**region:** the beneficiary's residential area in the US, northeast, southeast, southwest, northwest.\n",
    "\n",
    "**charges:** Individual medical costs billed by health insurance"
   ]
  },
  {
   "cell_type": "markdown",
   "id": "891db41c",
   "metadata": {},
   "source": [
    "##### For this example we would like to predict a beneficiaries charges based on multiple factors (age, sex, bmi, children, smoker, region)\n",
    "\n",
    "**Dependent Variable** = Charges\n",
    "\n",
    "**Independent Variables** = age, sex, bmi, children, smoker, region\n",
    "\n",
    "Because **Charges** is a continuous variable, we will be performing a **multiple linear regression**. (See exploratory analysis.)"
   ]
  },
  {
   "cell_type": "code",
   "execution_count": 1,
   "id": "1c5c1143",
   "metadata": {},
   "outputs": [],
   "source": [
    "#Import libraries to load data and manipulate dataframes\n",
    "import pandas as pd\n",
    "import numpy as np\n",
    "import requests\n",
    "import io"
   ]
  },
  {
   "cell_type": "code",
   "execution_count": 26,
   "id": "ec554d15",
   "metadata": {},
   "outputs": [],
   "source": [
    "#import model from scikit-learn\n",
    "import sklearn\n",
    "from sklearn.linear_model import LinearRegression\n",
    "from sklearn.model_selection import train_test_split\n",
    "import sklearn.metrics as metrics"
   ]
  },
  {
   "cell_type": "code",
   "execution_count": 5,
   "id": "1bb7394e",
   "metadata": {},
   "outputs": [
    {
     "data": {
      "text/html": [
       "<div>\n",
       "<style scoped>\n",
       "    .dataframe tbody tr th:only-of-type {\n",
       "        vertical-align: middle;\n",
       "    }\n",
       "\n",
       "    .dataframe tbody tr th {\n",
       "        vertical-align: top;\n",
       "    }\n",
       "\n",
       "    .dataframe thead th {\n",
       "        text-align: right;\n",
       "    }\n",
       "</style>\n",
       "<table border=\"1\" class=\"dataframe\">\n",
       "  <thead>\n",
       "    <tr style=\"text-align: right;\">\n",
       "      <th></th>\n",
       "      <th>age</th>\n",
       "      <th>sex</th>\n",
       "      <th>bmi</th>\n",
       "      <th>children</th>\n",
       "      <th>smoker</th>\n",
       "      <th>region</th>\n",
       "      <th>charges</th>\n",
       "    </tr>\n",
       "  </thead>\n",
       "  <tbody>\n",
       "    <tr>\n",
       "      <th>0</th>\n",
       "      <td>19</td>\n",
       "      <td>female</td>\n",
       "      <td>27.900</td>\n",
       "      <td>0</td>\n",
       "      <td>yes</td>\n",
       "      <td>southwest</td>\n",
       "      <td>16884.92400</td>\n",
       "    </tr>\n",
       "    <tr>\n",
       "      <th>1</th>\n",
       "      <td>18</td>\n",
       "      <td>male</td>\n",
       "      <td>33.770</td>\n",
       "      <td>1</td>\n",
       "      <td>no</td>\n",
       "      <td>southeast</td>\n",
       "      <td>1725.55230</td>\n",
       "    </tr>\n",
       "    <tr>\n",
       "      <th>2</th>\n",
       "      <td>28</td>\n",
       "      <td>male</td>\n",
       "      <td>33.000</td>\n",
       "      <td>3</td>\n",
       "      <td>no</td>\n",
       "      <td>southeast</td>\n",
       "      <td>4449.46200</td>\n",
       "    </tr>\n",
       "    <tr>\n",
       "      <th>3</th>\n",
       "      <td>33</td>\n",
       "      <td>male</td>\n",
       "      <td>22.705</td>\n",
       "      <td>0</td>\n",
       "      <td>no</td>\n",
       "      <td>northwest</td>\n",
       "      <td>21984.47061</td>\n",
       "    </tr>\n",
       "    <tr>\n",
       "      <th>4</th>\n",
       "      <td>32</td>\n",
       "      <td>male</td>\n",
       "      <td>28.880</td>\n",
       "      <td>0</td>\n",
       "      <td>no</td>\n",
       "      <td>northwest</td>\n",
       "      <td>3866.85520</td>\n",
       "    </tr>\n",
       "  </tbody>\n",
       "</table>\n",
       "</div>"
      ],
      "text/plain": [
       "   age     sex     bmi  children smoker     region      charges\n",
       "0   19  female  27.900         0    yes  southwest  16884.92400\n",
       "1   18    male  33.770         1     no  southeast   1725.55230\n",
       "2   28    male  33.000         3     no  southeast   4449.46200\n",
       "3   33    male  22.705         0     no  northwest  21984.47061\n",
       "4   32    male  28.880         0     no  northwest   3866.85520"
      ]
     },
     "execution_count": 5,
     "metadata": {},
     "output_type": "execute_result"
    }
   ],
   "source": [
    "# Downloading the csv file from your GitHub account\n",
    "\n",
    "url = \"https://raw.githubusercontent.com/maulcait/Python-Practice-Applications/main/insurance.csv\" \n",
    "# Make sure the url is the raw version of the file on GitHub\n",
    "download = requests.get(url).content\n",
    "\n",
    "# Reading the downloaded content and turning it into a pandas dataframe\n",
    "\n",
    "df = pd.read_csv(io.StringIO(download.decode('utf-8')))\n",
    "df.head()"
   ]
  },
  {
   "cell_type": "code",
   "execution_count": 18,
   "id": "81bb6168",
   "metadata": {},
   "outputs": [],
   "source": [
    "# Linear Regression requires all data inputs to be continuous variables\n",
    "# We need to convert the sex, smoker, and region columns to dummy variables\n",
    "# pandas has a function to create theses columns\n",
    "# drop_first is set to True to avoid multicollinearity - dummy variable trap \n",
    "df_clean = pd.get_dummies(df, drop_first=True)"
   ]
  },
  {
   "cell_type": "code",
   "execution_count": 17,
   "id": "82e629cb",
   "metadata": {},
   "outputs": [
    {
     "data": {
      "text/plain": [
       "Index(['age', 'bmi', 'children', 'charges', 'sex_male', 'smoker_yes',\n",
       "       'region_northwest', 'region_southeast', 'region_southwest'],\n",
       "      dtype='object')"
      ]
     },
     "execution_count": 17,
     "metadata": {},
     "output_type": "execute_result"
    }
   ],
   "source": [
    "#display columns\n",
    "df_clean.columns"
   ]
  },
  {
   "cell_type": "code",
   "execution_count": 19,
   "id": "17945346",
   "metadata": {},
   "outputs": [],
   "source": [
    "#break out data into independent and dependent dataframes\n",
    "#we are going to be solving the equation\n",
    "# y = mX + b \n",
    "# where y is the dependent column \n",
    "# and X is all the independent columns\n",
    "y = df['charges']\n",
    "X = df_clean.drop('charges', axis=1)  "
   ]
  },
  {
   "cell_type": "code",
   "execution_count": 20,
   "id": "81c78215",
   "metadata": {},
   "outputs": [],
   "source": [
    "# We need to split the data into training and test set\n",
    "# This will help us create better predictions by not overtraining the model\n",
    "# We will reserve 1/3 of the data set to test our predictive model\n",
    "X_train, X_test, y_train, y_test = train_test_split(X, y, test_size=0.33, random_state=42)"
   ]
  },
  {
   "cell_type": "code",
   "execution_count": 21,
   "id": "d0ff7856",
   "metadata": {},
   "outputs": [
    {
     "data": {
      "text/plain": [
       "LinearRegression()"
      ]
     },
     "execution_count": 21,
     "metadata": {},
     "output_type": "execute_result"
    }
   ],
   "source": [
    "lr = LinearRegression()\n",
    "lr.fit(X_train, y_train)"
   ]
  },
  {
   "cell_type": "code",
   "execution_count": 28,
   "id": "c999b9a9",
   "metadata": {},
   "outputs": [
    {
     "name": "stdout",
     "output_type": "stream",
     "text": [
      "The first five prediction [ 8826.06227121  7070.49034864 37007.2387042   9438.74358115\n",
      " 27105.41944988]\n",
      "The real first five labels 764      9095.06825\n",
      "887      5272.17580\n",
      "890     29330.98315\n",
      "1293     9301.89355\n",
      "259     33750.29180\n",
      "Name: charges, dtype: float64\n",
      "Mean Squared Error 35090225.72562567\n"
     ]
    }
   ],
   "source": [
    "y_pred = lr.predict(X_test)\n",
    "print(\"The first five prediction {}\".format(pred_y[:5]))\n",
    "print(\"The real first five labels {}\".format(y_test[:5]))\n",
    "\n",
    "mse = metrics.mean_squared_error(y_test, pred_y)\n",
    "print(\"Mean Squared Error {}\".format(mse))"
   ]
  },
  {
   "cell_type": "code",
   "execution_count": 57,
   "id": "5e6e5159",
   "metadata": {},
   "outputs": [
    {
     "name": "stdout",
     "output_type": "stream",
     "text": [
      "Intercept:  -12426.214137670124\n"
     ]
    }
   ],
   "source": [
    "#To retrieve the intercept:\n",
    "print('Intercept: ' ,lr.intercept_)\n"
   ]
  },
  {
   "cell_type": "code",
   "execution_count": 55,
   "id": "5b531417",
   "metadata": {},
   "outputs": [
    {
     "data": {
      "text/html": [
       "<div>\n",
       "<style scoped>\n",
       "    .dataframe tbody tr th:only-of-type {\n",
       "        vertical-align: middle;\n",
       "    }\n",
       "\n",
       "    .dataframe tbody tr th {\n",
       "        vertical-align: top;\n",
       "    }\n",
       "\n",
       "    .dataframe thead th {\n",
       "        text-align: right;\n",
       "    }\n",
       "</style>\n",
       "<table border=\"1\" class=\"dataframe\">\n",
       "  <thead>\n",
       "    <tr style=\"text-align: right;\">\n",
       "      <th></th>\n",
       "      <th>Coefficient</th>\n",
       "    </tr>\n",
       "  </thead>\n",
       "  <tbody>\n",
       "    <tr>\n",
       "      <th>age</th>\n",
       "      <td>261.568395</td>\n",
       "    </tr>\n",
       "    <tr>\n",
       "      <th>bmi</th>\n",
       "      <td>347.097290</td>\n",
       "    </tr>\n",
       "    <tr>\n",
       "      <th>children</th>\n",
       "      <td>371.762169</td>\n",
       "    </tr>\n",
       "    <tr>\n",
       "      <th>sex_male</th>\n",
       "      <td>121.123686</td>\n",
       "    </tr>\n",
       "    <tr>\n",
       "      <th>smoker_yes</th>\n",
       "      <td>23700.983287</td>\n",
       "    </tr>\n",
       "    <tr>\n",
       "      <th>region_northwest</th>\n",
       "      <td>-339.618396</td>\n",
       "    </tr>\n",
       "    <tr>\n",
       "      <th>region_southeast</th>\n",
       "      <td>-886.499581</td>\n",
       "    </tr>\n",
       "    <tr>\n",
       "      <th>region_southwest</th>\n",
       "      <td>-803.884788</td>\n",
       "    </tr>\n",
       "  </tbody>\n",
       "</table>\n",
       "</div>"
      ],
      "text/plain": [
       "                   Coefficient\n",
       "age                 261.568395\n",
       "bmi                 347.097290\n",
       "children            371.762169\n",
       "sex_male            121.123686\n",
       "smoker_yes        23700.983287\n",
       "region_northwest   -339.618396\n",
       "region_southeast   -886.499581\n",
       "region_southwest   -803.884788"
      ]
     },
     "execution_count": 55,
     "metadata": {},
     "output_type": "execute_result"
    }
   ],
   "source": [
    "coeff_df = pd.DataFrame(lr.coef_, X.columns, columns=['Coefficient'])\n",
    "coeff_df"
   ]
  },
  {
   "cell_type": "code",
   "execution_count": 38,
   "id": "01713817",
   "metadata": {},
   "outputs": [],
   "source": [
    "#Create new dataframe with the test data and predicted values\n",
    "y_results = pd.DataFrame({'Actual': y_test, 'Predicted': y_pred.flatten()})"
   ]
  },
  {
   "cell_type": "code",
   "execution_count": 58,
   "id": "9bab1ebb",
   "metadata": {},
   "outputs": [
    {
     "data": {
      "text/html": [
       "<div>\n",
       "<style scoped>\n",
       "    .dataframe tbody tr th:only-of-type {\n",
       "        vertical-align: middle;\n",
       "    }\n",
       "\n",
       "    .dataframe tbody tr th {\n",
       "        vertical-align: top;\n",
       "    }\n",
       "\n",
       "    .dataframe thead th {\n",
       "        text-align: right;\n",
       "    }\n",
       "</style>\n",
       "<table border=\"1\" class=\"dataframe\">\n",
       "  <thead>\n",
       "    <tr style=\"text-align: right;\">\n",
       "      <th></th>\n",
       "      <th>Actual</th>\n",
       "      <th>Predicted</th>\n",
       "      <th>error</th>\n",
       "    </tr>\n",
       "  </thead>\n",
       "  <tbody>\n",
       "    <tr>\n",
       "      <th>764</th>\n",
       "      <td>9095.06825</td>\n",
       "      <td>8826.062271</td>\n",
       "      <td>269.005979</td>\n",
       "    </tr>\n",
       "    <tr>\n",
       "      <th>887</th>\n",
       "      <td>5272.17580</td>\n",
       "      <td>7070.490349</td>\n",
       "      <td>-1798.314549</td>\n",
       "    </tr>\n",
       "    <tr>\n",
       "      <th>890</th>\n",
       "      <td>29330.98315</td>\n",
       "      <td>37007.238704</td>\n",
       "      <td>-7676.255554</td>\n",
       "    </tr>\n",
       "    <tr>\n",
       "      <th>1293</th>\n",
       "      <td>9301.89355</td>\n",
       "      <td>9438.743581</td>\n",
       "      <td>-136.850031</td>\n",
       "    </tr>\n",
       "    <tr>\n",
       "      <th>259</th>\n",
       "      <td>33750.29180</td>\n",
       "      <td>27105.419450</td>\n",
       "      <td>6644.872350</td>\n",
       "    </tr>\n",
       "  </tbody>\n",
       "</table>\n",
       "</div>"
      ],
      "text/plain": [
       "           Actual     Predicted        error\n",
       "764    9095.06825   8826.062271   269.005979\n",
       "887    5272.17580   7070.490349 -1798.314549\n",
       "890   29330.98315  37007.238704 -7676.255554\n",
       "1293   9301.89355   9438.743581  -136.850031\n",
       "259   33750.29180  27105.419450  6644.872350"
      ]
     },
     "execution_count": 58,
     "metadata": {},
     "output_type": "execute_result"
    }
   ],
   "source": [
    "y_results['error'] = y_results['Actual'] - y_results['Predicted']\n",
    "y_results.head()"
   ]
  },
  {
   "cell_type": "code",
   "execution_count": 43,
   "id": "caa53288",
   "metadata": {},
   "outputs": [
    {
     "name": "stdout",
     "output_type": "stream",
     "text": [
      "Mean Absolute Error: 4193.463021932145\n",
      "Mean Squared Error: 35090225.72562567\n",
      "Root Mean Squared Error: 5923.700340633857\n"
     ]
    }
   ],
   "source": [
    "print('Mean Absolute Error:', metrics.mean_absolute_error(y_test, y_pred))\n",
    "print('Mean Squared Error:', metrics.mean_squared_error(y_test, y_pred))\n",
    "print('Root Mean Squared Error:', np.sqrt(metrics.mean_squared_error(y_test, y_pred)))"
   ]
  },
  {
   "cell_type": "code",
   "execution_count": 64,
   "id": "3f4c2a69",
   "metadata": {},
   "outputs": [
    {
     "name": "stdout",
     "output_type": "stream",
     "text": [
      "R-squared:  0.7605492639270064\n"
     ]
    }
   ],
   "source": [
    "# This score is pretty good for basically no analysis or feature engineering\n",
    "print(\"R-squared: \",lr.score(X_test,y_test))"
   ]
  },
  {
   "cell_type": "code",
   "execution_count": 71,
   "id": "bbeb6349",
   "metadata": {},
   "outputs": [
    {
     "name": "stderr",
     "output_type": "stream",
     "text": [
      "<ipython-input-71-05eaa75d4a9c>:3: SettingWithCopyWarning: \n",
      "A value is trying to be set on a copy of a slice from a DataFrame.\n",
      "Try using .loc[row_indexer,col_indexer] = value instead\n",
      "\n",
      "See the caveats in the documentation: https://pandas.pydata.org/pandas-docs/stable/user_guide/indexing.html#returning-a-view-versus-a-copy\n",
      "  X_train['smoker_x_bmi'] = X_train['smoker_yes'] * X_train['bmi']\n",
      "<ipython-input-71-05eaa75d4a9c>:4: SettingWithCopyWarning: \n",
      "A value is trying to be set on a copy of a slice from a DataFrame.\n",
      "Try using .loc[row_indexer,col_indexer] = value instead\n",
      "\n",
      "See the caveats in the documentation: https://pandas.pydata.org/pandas-docs/stable/user_guide/indexing.html#returning-a-view-versus-a-copy\n",
      "  X_test['smoker_x_bmi'] = X_test['smoker_yes'] * X_test['bmi']\n"
     ]
    }
   ],
   "source": [
    "#Let's try to improve the model a bit by adding an interaction variable \n",
    "#between smoking and BMI based on what we saw in our exploratory data analysis\n",
    "X_train['smoker_x_bmi'] = X_train['smoker_yes'] * X_train['bmi']\n",
    "X_test['smoker_x_bmi'] = X_test['smoker_yes'] * X_test['bmi']"
   ]
  },
  {
   "cell_type": "code",
   "execution_count": 73,
   "id": "c97a67ed",
   "metadata": {},
   "outputs": [
    {
     "name": "stdout",
     "output_type": "stream",
     "text": [
      "R-squared:  0.8504045611520333\n"
     ]
    }
   ],
   "source": [
    "lr_2 = LinearRegression()\n",
    "lr_2.fit(X_train, y_train)\n",
    "# This score is much better than the previous model when we included the interaction between the smoking and bmi\n",
    "print(\"R-squared: \",lr_2.score(X_test,y_test))"
   ]
  },
  {
   "cell_type": "code",
   "execution_count": 78,
   "id": "7a32cc70",
   "metadata": {},
   "outputs": [
    {
     "name": "stdout",
     "output_type": "stream",
     "text": [
      "Mean Absolute Error: 2777.2099644623736\n",
      "Mean Squared Error: 21922412.111938484\n",
      "Root Mean Squared Error: 4682.1375579897785\n"
     ]
    }
   ],
   "source": [
    "#we see a decrease in the RMSE suggesting this models accuracy is better \n",
    "y_pred_w_interaction = lr_2.predict(X_test)\n",
    "print('Mean Absolute Error:', metrics.mean_absolute_error(y_test, y_pred_w_interaction))\n",
    "print('Mean Squared Error:', metrics.mean_squared_error(y_test, y_pred_w_interaction))\n",
    "print('Root Mean Squared Error:', np.sqrt(metrics.mean_squared_error(y_test, y_pred_w_interaction)))"
   ]
  },
  {
   "cell_type": "code",
   "execution_count": 75,
   "id": "5a84b725",
   "metadata": {},
   "outputs": [
    {
     "data": {
      "text/html": [
       "<div>\n",
       "<style scoped>\n",
       "    .dataframe tbody tr th:only-of-type {\n",
       "        vertical-align: middle;\n",
       "    }\n",
       "\n",
       "    .dataframe tbody tr th {\n",
       "        vertical-align: top;\n",
       "    }\n",
       "\n",
       "    .dataframe thead th {\n",
       "        text-align: right;\n",
       "    }\n",
       "</style>\n",
       "<table border=\"1\" class=\"dataframe\">\n",
       "  <thead>\n",
       "    <tr style=\"text-align: right;\">\n",
       "      <th></th>\n",
       "      <th>Coefficient</th>\n",
       "    </tr>\n",
       "  </thead>\n",
       "  <tbody>\n",
       "    <tr>\n",
       "      <th>age</th>\n",
       "      <td>267.226658</td>\n",
       "    </tr>\n",
       "    <tr>\n",
       "      <th>bmi</th>\n",
       "      <td>31.691750</td>\n",
       "    </tr>\n",
       "    <tr>\n",
       "      <th>children</th>\n",
       "      <td>426.844631</td>\n",
       "    </tr>\n",
       "    <tr>\n",
       "      <th>sex_male</th>\n",
       "      <td>-463.227177</td>\n",
       "    </tr>\n",
       "    <tr>\n",
       "      <th>smoker_yes</th>\n",
       "      <td>-21760.225224</td>\n",
       "    </tr>\n",
       "    <tr>\n",
       "      <th>region_northwest</th>\n",
       "      <td>-511.068193</td>\n",
       "    </tr>\n",
       "    <tr>\n",
       "      <th>region_southeast</th>\n",
       "      <td>-898.157575</td>\n",
       "    </tr>\n",
       "    <tr>\n",
       "      <th>region_southwest</th>\n",
       "      <td>-1065.973588</td>\n",
       "    </tr>\n",
       "    <tr>\n",
       "      <th>smoker_x_bmi</th>\n",
       "      <td>1494.943780</td>\n",
       "    </tr>\n",
       "  </tbody>\n",
       "</table>\n",
       "</div>"
      ],
      "text/plain": [
       "                   Coefficient\n",
       "age                 267.226658\n",
       "bmi                  31.691750\n",
       "children            426.844631\n",
       "sex_male           -463.227177\n",
       "smoker_yes       -21760.225224\n",
       "region_northwest   -511.068193\n",
       "region_southeast   -898.157575\n",
       "region_southwest  -1065.973588\n",
       "smoker_x_bmi       1494.943780"
      ]
     },
     "execution_count": 75,
     "metadata": {},
     "output_type": "execute_result"
    }
   ],
   "source": [
    "#This interaction increases the charges by a lot - \n",
    "#implying that a person who is a smoker with a high BMI will be more likely to have higher charges \n",
    "coeff_df_with_interaction = pd.DataFrame(lr_2.coef_, X_test.columns, columns=['Coefficient'])\n",
    "coeff_df_with_interaction"
   ]
  },
  {
   "cell_type": "markdown",
   "id": "1136a98a",
   "metadata": {},
   "source": [
    "##### We could continue to improve on this model by running multiple types of models such as Random Forest, Decision Trees, Naive Bayes, Gradient Boosting, etc and combine into an ensemble model"
   ]
  }
 ],
 "metadata": {
  "kernelspec": {
   "display_name": "Python 3",
   "language": "python",
   "name": "python3"
  },
  "language_info": {
   "codemirror_mode": {
    "name": "ipython",
    "version": 3
   },
   "file_extension": ".py",
   "mimetype": "text/x-python",
   "name": "python",
   "nbconvert_exporter": "python",
   "pygments_lexer": "ipython3",
   "version": "3.8.10"
  }
 },
 "nbformat": 4,
 "nbformat_minor": 5
}
