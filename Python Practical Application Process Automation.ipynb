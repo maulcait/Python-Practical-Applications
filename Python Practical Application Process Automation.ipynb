{
 "cells": [
  {
   "cell_type": "markdown",
   "id": "5c6392cd-aed3-4ff4-a692-9a763fca78a8",
   "metadata": {},
   "source": [
    "# Process Automation Exmaple\n",
    "### Dataset comes from Kaggle \n",
    "#### https://www.kaggle.com/mirichoi0218/insurance\n",
    "\n",
    "##### Columns\n",
    "**age:** age of primary beneficiary\n",
    "\n",
    "**sex:** insurance contractor gender, female, male\n",
    "\n",
    "**bmi:** Body mass index, providing an understanding of body, weights that are relatively high or low relative to height,\n",
    "objective index of body weight (kg / m ^ 2) using the ratio of height to weight, ideally 18.5 to 24.9\n",
    "\n",
    "**children:** Number of children covered by health insurance / Number of dependents\n",
    "\n",
    "**smoker:** Smoking\n",
    "\n",
    "**region:** the beneficiary's residential area in the US, northeast, southeast, southwest, northwest.\n",
    "\n",
    "**charges:** Individual medical costs billed by health insurance"
   ]
  },
  {
   "cell_type": "code",
   "execution_count": 1,
   "id": "7c5e93f6-d35d-4c27-8b62-4860725d5719",
   "metadata": {},
   "outputs": [
    {
     "data": {
      "text/html": [
       "<div>\n",
       "<style scoped>\n",
       "    .dataframe tbody tr th:only-of-type {\n",
       "        vertical-align: middle;\n",
       "    }\n",
       "\n",
       "    .dataframe tbody tr th {\n",
       "        vertical-align: top;\n",
       "    }\n",
       "\n",
       "    .dataframe thead th {\n",
       "        text-align: right;\n",
       "    }\n",
       "</style>\n",
       "<table border=\"1\" class=\"dataframe\">\n",
       "  <thead>\n",
       "    <tr style=\"text-align: right;\">\n",
       "      <th></th>\n",
       "      <th>age</th>\n",
       "      <th>sex</th>\n",
       "      <th>bmi</th>\n",
       "      <th>children</th>\n",
       "      <th>smoker</th>\n",
       "      <th>region</th>\n",
       "      <th>charges</th>\n",
       "    </tr>\n",
       "  </thead>\n",
       "  <tbody>\n",
       "    <tr>\n",
       "      <th>0</th>\n",
       "      <td>19</td>\n",
       "      <td>female</td>\n",
       "      <td>27.900</td>\n",
       "      <td>0</td>\n",
       "      <td>yes</td>\n",
       "      <td>southwest</td>\n",
       "      <td>16884.92400</td>\n",
       "    </tr>\n",
       "    <tr>\n",
       "      <th>1</th>\n",
       "      <td>18</td>\n",
       "      <td>male</td>\n",
       "      <td>33.770</td>\n",
       "      <td>1</td>\n",
       "      <td>no</td>\n",
       "      <td>southeast</td>\n",
       "      <td>1725.55230</td>\n",
       "    </tr>\n",
       "    <tr>\n",
       "      <th>2</th>\n",
       "      <td>28</td>\n",
       "      <td>male</td>\n",
       "      <td>33.000</td>\n",
       "      <td>3</td>\n",
       "      <td>no</td>\n",
       "      <td>southeast</td>\n",
       "      <td>4449.46200</td>\n",
       "    </tr>\n",
       "    <tr>\n",
       "      <th>3</th>\n",
       "      <td>33</td>\n",
       "      <td>male</td>\n",
       "      <td>22.705</td>\n",
       "      <td>0</td>\n",
       "      <td>no</td>\n",
       "      <td>northwest</td>\n",
       "      <td>21984.47061</td>\n",
       "    </tr>\n",
       "    <tr>\n",
       "      <th>4</th>\n",
       "      <td>32</td>\n",
       "      <td>male</td>\n",
       "      <td>28.880</td>\n",
       "      <td>0</td>\n",
       "      <td>no</td>\n",
       "      <td>northwest</td>\n",
       "      <td>3866.85520</td>\n",
       "    </tr>\n",
       "  </tbody>\n",
       "</table>\n",
       "</div>"
      ],
      "text/plain": [
       "   age     sex     bmi  children smoker     region      charges\n",
       "0   19  female  27.900         0    yes  southwest  16884.92400\n",
       "1   18    male  33.770         1     no  southeast   1725.55230\n",
       "2   28    male  33.000         3     no  southeast   4449.46200\n",
       "3   33    male  22.705         0     no  northwest  21984.47061\n",
       "4   32    male  28.880         0     no  northwest   3866.85520"
      ]
     },
     "execution_count": 1,
     "metadata": {},
     "output_type": "execute_result"
    }
   ],
   "source": [
    "#Import packages\n",
    "import pandas as pd\n",
    "import numpy as np\n",
    "%matplotlib inline\n",
    "import seaborn as sns\n",
    "import matplotlib.pyplot as plt\n",
    "plt.style.use('seaborn-whitegrid')\n",
    "import requests\n",
    "import io\n",
    "\n",
    "# Downloading the csv file from your GitHub account\n",
    "\n",
    "url = \"https://raw.githubusercontent.com/maulcait/Python-Practice-Applications/main/insurance.csv\" \n",
    "# Make sure the url is the raw version of the file on GitHub\n",
    "download = requests.get(url).content\n",
    "\n",
    "# Reading the downloaded content and turning it into a pandas dataframe\n",
    "\n",
    "df = pd.read_csv(io.StringIO(download.decode('utf-8')))\n",
    "df.head()"
   ]
  },
  {
   "cell_type": "markdown",
   "id": "32f739eb-e53a-4f8d-8d13-b455aaa96289",
   "metadata": {},
   "source": [
    "### Hypothetical example: \n",
    "Let's pretend that we want all of the data in separate csv files by age\n",
    "\n",
    "We could just go in an copy paste each age group into a separate file and save as a csv\n",
    "\n",
    "or... \n",
    "\n",
    "We could use python to break out each age group into separate csv files\n",
    "\n",
    "Let's try the python way.\n"
   ]
  },
  {
   "cell_type": "code",
   "execution_count": 2,
   "id": "60183e72-4037-4441-be87-3747e5ff9670",
   "metadata": {},
   "outputs": [],
   "source": [
    "#Import the os package to help with manipulating files and directories\n",
    "import os\n",
    "#Create a new folder to hold all the files for this example\n",
    "examplefolder = 'python_process_automation_example'\n",
    "if not os.path.isdir(examplefolder):\n",
    "       os.makedirs(examplefolder)\n",
    "#change working directory so that all future folders and files created will go into the example folder we just created\n",
    "os.chdir(examplefolder)\n"
   ]
  },
  {
   "cell_type": "code",
   "execution_count": 3,
   "id": "5076075a-5191-4317-b759-0d141077ad39",
   "metadata": {},
   "outputs": [],
   "source": [
    "#Create a new folder to hold all the files\n",
    "folderName = 'insurance_by_age'\n",
    "if not os.path.isdir(folderName):\n",
    "       os.makedirs(folderName)"
   ]
  },
  {
   "cell_type": "code",
   "execution_count": 4,
   "id": "1cef0f0b-522e-402b-adaf-5e6bdb859e2f",
   "metadata": {},
   "outputs": [],
   "source": [
    "#Loop through the unique ages and write out a csv file for each one\n",
    "#exclude the index column when writing out the files\n",
    "for i in df['age'].unique():\n",
    "    subset_df = df[df['age'] == i]\n",
    "    (subset_df).to_csv(folderName+ '/'+'insurance_age_'+str(i) + '.csv',index=False)"
   ]
  },
  {
   "cell_type": "markdown",
   "id": "f9111bd1-853d-4bf3-a373-76f83679ae05",
   "metadata": {},
   "source": [
    "#### Let's pretend now that we were starting with this folder of CSV files and we wanted to consolidate all these files into a single excel document where each tab is an age group and the data associated with that age group\n",
    "\n",
    "We will have three different age group buckets:\n",
    "\n",
    "Young adults (18-30)\n",
    "\n",
    "Adult (31 - 50) \n",
    "\n",
    "Older Adults (51+)\n",
    "\n",
    "We would like to group all the ages and put them on a specific tab"
   ]
  },
  {
   "cell_type": "code",
   "execution_count": 5,
   "id": "6ac09b27-3aee-4fe6-a1f6-511bf189ba20",
   "metadata": {},
   "outputs": [],
   "source": [
    "#Create the folder and excel file that will hold all the data\n",
    "#Create a new folder to hold all the files\n",
    "excelFolderName = 'insurance_by_age_group'\n",
    "if not os.path.isdir(excelFolderName):\n",
    "       os.makedirs(excelFolderName)       \n"
   ]
  },
  {
   "cell_type": "code",
   "execution_count": 6,
   "id": "8e05aef5-abd5-420b-ab3f-a2a1e844535f",
   "metadata": {},
   "outputs": [
    {
     "data": {
      "text/plain": [
       "['insurance_by_age\\\\insurance_age_18.csv',\n",
       " 'insurance_by_age\\\\insurance_age_19.csv',\n",
       " 'insurance_by_age\\\\insurance_age_20.csv',\n",
       " 'insurance_by_age\\\\insurance_age_21.csv',\n",
       " 'insurance_by_age\\\\insurance_age_22.csv']"
      ]
     },
     "execution_count": 6,
     "metadata": {},
     "output_type": "execute_result"
    }
   ],
   "source": [
    "#import package to help search for all the csv files\n",
    "import glob\n",
    "#get all the filenames in the folder\n",
    "fileList = glob.glob(folderName+\"/*.csv\")\n",
    "#display the first 5 records\n",
    "fileList[0:5]"
   ]
  },
  {
   "cell_type": "code",
   "execution_count": 7,
   "id": "32327545-149f-45d0-ab3c-77ca208589a1",
   "metadata": {},
   "outputs": [],
   "source": [
    "#create a dataframe to hold all the file data\n",
    "allFilesDf = pd.DataFrame()\n",
    "#loop through list of files and read into a dataframe\n",
    "for i in fileList:\n",
    "    allFilesDf = allFilesDf.append(pd.read_csv(i))"
   ]
  },
  {
   "cell_type": "code",
   "execution_count": 8,
   "id": "4ebaef5d-2373-44fa-af99-f828ae0655bd",
   "metadata": {},
   "outputs": [
    {
     "data": {
      "text/html": [
       "<div>\n",
       "<style scoped>\n",
       "    .dataframe tbody tr th:only-of-type {\n",
       "        vertical-align: middle;\n",
       "    }\n",
       "\n",
       "    .dataframe tbody tr th {\n",
       "        vertical-align: top;\n",
       "    }\n",
       "\n",
       "    .dataframe thead th {\n",
       "        text-align: right;\n",
       "    }\n",
       "</style>\n",
       "<table border=\"1\" class=\"dataframe\">\n",
       "  <thead>\n",
       "    <tr style=\"text-align: right;\">\n",
       "      <th></th>\n",
       "      <th>age</th>\n",
       "      <th>sex</th>\n",
       "      <th>bmi</th>\n",
       "      <th>children</th>\n",
       "      <th>smoker</th>\n",
       "      <th>region</th>\n",
       "      <th>charges</th>\n",
       "    </tr>\n",
       "  </thead>\n",
       "  <tbody>\n",
       "    <tr>\n",
       "      <th>0</th>\n",
       "      <td>18</td>\n",
       "      <td>male</td>\n",
       "      <td>33.770</td>\n",
       "      <td>1</td>\n",
       "      <td>no</td>\n",
       "      <td>southeast</td>\n",
       "      <td>1725.55230</td>\n",
       "    </tr>\n",
       "    <tr>\n",
       "      <th>1</th>\n",
       "      <td>18</td>\n",
       "      <td>male</td>\n",
       "      <td>34.100</td>\n",
       "      <td>0</td>\n",
       "      <td>no</td>\n",
       "      <td>southeast</td>\n",
       "      <td>1137.01100</td>\n",
       "    </tr>\n",
       "    <tr>\n",
       "      <th>2</th>\n",
       "      <td>18</td>\n",
       "      <td>female</td>\n",
       "      <td>26.315</td>\n",
       "      <td>0</td>\n",
       "      <td>no</td>\n",
       "      <td>northeast</td>\n",
       "      <td>2198.18985</td>\n",
       "    </tr>\n",
       "    <tr>\n",
       "      <th>3</th>\n",
       "      <td>18</td>\n",
       "      <td>female</td>\n",
       "      <td>38.665</td>\n",
       "      <td>2</td>\n",
       "      <td>no</td>\n",
       "      <td>northeast</td>\n",
       "      <td>3393.35635</td>\n",
       "    </tr>\n",
       "    <tr>\n",
       "      <th>4</th>\n",
       "      <td>18</td>\n",
       "      <td>female</td>\n",
       "      <td>35.625</td>\n",
       "      <td>0</td>\n",
       "      <td>no</td>\n",
       "      <td>northeast</td>\n",
       "      <td>2211.13075</td>\n",
       "    </tr>\n",
       "  </tbody>\n",
       "</table>\n",
       "</div>"
      ],
      "text/plain": [
       "   age     sex     bmi  children smoker     region     charges\n",
       "0   18    male  33.770         1     no  southeast  1725.55230\n",
       "1   18    male  34.100         0     no  southeast  1137.01100\n",
       "2   18  female  26.315         0     no  northeast  2198.18985\n",
       "3   18  female  38.665         2     no  northeast  3393.35635\n",
       "4   18  female  35.625         0     no  northeast  2211.13075"
      ]
     },
     "execution_count": 8,
     "metadata": {},
     "output_type": "execute_result"
    }
   ],
   "source": [
    "#display top 5 records of dataframe \n",
    "allFilesDf.head()"
   ]
  },
  {
   "cell_type": "code",
   "execution_count": 9,
   "id": "3aa7fc20-effc-4078-a7de-b4e828396641",
   "metadata": {},
   "outputs": [],
   "source": [
    "#Create the excel file with all the data on one tab\n",
    "allFilesDf.to_excel(excelFolderName+'/all_data.xlsx')"
   ]
  },
  {
   "cell_type": "code",
   "execution_count": 10,
   "id": "1e670851-e753-49ab-9562-ba33d6b8d124",
   "metadata": {},
   "outputs": [],
   "source": [
    "#add column for sheetname\n",
    "allFilesDf['sheetname'] = np.where(allFilesDf['age'] <=30, 'young adult', np.where(allFilesDf['age'] <=50, 'adult', 'older adult'))"
   ]
  },
  {
   "cell_type": "code",
   "execution_count": 11,
   "id": "08ae3d90-cdf2-4d92-8c4d-1d12017f5af0",
   "metadata": {},
   "outputs": [],
   "source": [
    "#iterate through unique sheet name values to write to excel worksheet\n",
    "\n",
    "#create a Pandas Excel writer using XlsxWriter as the engine\n",
    "writer = pd.ExcelWriter(excelFolderName+'/insurance_by_age_group.xlsx', engine='xlsxwriter')\n",
    "\n",
    "#write each DataFrame to a specific sheet\n",
    "for i in allFilesDf['sheetname'].unique():\n",
    "    allFilesDf[allFilesDf['sheetname'] == i].to_excel(writer, sheet_name=i,index=False)\n",
    "#close the Pandas Excel writer and output the Excel file\n",
    "writer.save()"
   ]
  },
  {
   "cell_type": "markdown",
   "id": "085c5fea-2766-40d5-b22d-9db98705373a",
   "metadata": {},
   "source": [
    "#### Now that we have saved the files into the excel document lets archive all the old csv files"
   ]
  },
  {
   "cell_type": "code",
   "execution_count": 12,
   "id": "d186506b-29fb-4325-ac3f-5ce38f5cf01d",
   "metadata": {},
   "outputs": [],
   "source": [
    "#Create an archive folder if it doesn't exist\n",
    "archiveFolderName = excelFolderName+'/archive'\n",
    "if not os.path.isdir(archiveFolderName):\n",
    "       os.makedirs(archiveFolderName)      "
   ]
  },
  {
   "cell_type": "code",
   "execution_count": 27,
   "id": "c51552ae-432c-480f-a559-5049d7ad8b45",
   "metadata": {},
   "outputs": [
    {
     "name": "stdout",
     "output_type": "stream",
     "text": [
      "Files to archive: 0\n"
     ]
    }
   ],
   "source": [
    "#move all the individual csv files into the archive folder\n",
    "filesToArchive = os.listdir(folderName)\n",
    "print(\"Files to archive: \" + str(len(filesToArchive)))"
   ]
  },
  {
   "cell_type": "code",
   "execution_count": 28,
   "id": "7c020f65-85a2-4f6a-9d59-ba58ae78bb46",
   "metadata": {},
   "outputs": [],
   "source": [
    "#iterate through list of files and rename to the archive filepath\n",
    "for f in filesToArchive:\n",
    "    os.rename(folderName+ '/'  + f, archiveFolderName+ '/' + f)"
   ]
  },
  {
   "cell_type": "code",
   "execution_count": 30,
   "id": "d7829843-6323-4369-bb51-f4cef5438cd6",
   "metadata": {},
   "outputs": [
    {
     "name": "stdout",
     "output_type": "stream",
     "text": [
      "Files archived: 0\n"
     ]
    }
   ],
   "source": [
    "#verify this operation worked\n",
    "print(\"Files archived: \" + str(len(filesToArchive)))"
   ]
  },
  {
   "cell_type": "markdown",
   "id": "c30652f3-23e0-4f30-8986-b5e6b3b532c7",
   "metadata": {},
   "source": [
    "#### Next steps might include:\n",
    "\n",
    "checking the folder for new files\n",
    "\n",
    "scheduling this program to run at specific intervals\n",
    "\n",
    "writing the data to a database table\n",
    "\n",
    "creating some custom visualization that update as new data gets pulled in \n",
    "\n",
    "applying a machine learning model to the new data "
   ]
  }
 ],
 "metadata": {
  "kernelspec": {
   "display_name": "Python 3",
   "language": "python",
   "name": "python3"
  },
  "language_info": {
   "codemirror_mode": {
    "name": "ipython",
    "version": 3
   },
   "file_extension": ".py",
   "mimetype": "text/x-python",
   "name": "python",
   "nbconvert_exporter": "python",
   "pygments_lexer": "ipython3",
   "version": "3.8.10"
  }
 },
 "nbformat": 4,
 "nbformat_minor": 5
}
